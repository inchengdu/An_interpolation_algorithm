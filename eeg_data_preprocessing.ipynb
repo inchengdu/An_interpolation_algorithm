{
 "cells": [
  {
   "attachments": {},
   "cell_type": "markdown",
   "metadata": {},
   "source": [
    "eeg data preprocessing"
   ]
  },
  {
   "cell_type": "code",
   "execution_count": null,
   "metadata": {},
   "outputs": [],
   "source": [
    "import os\n",
    "import matplotlib.pyplot as plt\n",
    "import numpy as np\n",
    "import mne\n",
    "import pandas as pd\n",
    "%matplotlib qt"
   ]
  },
  {
   "attachments": {},
   "cell_type": "markdown",
   "metadata": {},
   "source": [
    "raw data path：file_path <br /> file save path:save_path"
   ]
  },
  {
   "cell_type": "code",
   "execution_count": 2,
   "metadata": {},
   "outputs": [],
   "source": [
    "flie_path=\"\"\n",
    "save_path=\"\""
   ]
  },
  {
   "cell_type": "code",
   "execution_count": 3,
   "metadata": {},
   "outputs": [
    {
     "name": "stderr",
     "output_type": "stream",
     "text": [
      "C:\\Users\\LRJ\\AppData\\Local\\Temp\\ipykernel_2104\\3060251451.py:1: RuntimeWarning: Data will be preloaded. preload=False or a string preload is not supported when the data is stored in the .set file\n",
      "  raw_data= mne.io.read_raw_eeglab(flie_path)\n"
     ]
    }
   ],
   "source": [
    "raw_data= mne.io.read_raw_eeglab(flie_path)"
   ]
  },
  {
   "cell_type": "code",
   "execution_count": 4,
   "metadata": {},
   "outputs": [
    {
     "name": "stdout",
     "output_type": "stream",
     "text": [
      "<Info | 8 non-empty values\n",
      " bads: []\n",
      " ch_names: Fp1, AF3, AF7, Fz, F1, F3, F5, F7, FC1, FC3, FC5, FT7, Cz, C1, ...\n",
      " chs: 61 EEG\n",
      " custom_ref_applied: False\n",
      " dig: 64 items (3 Cardinal, 61 EEG)\n",
      " highpass: 0.0 Hz\n",
      " lowpass: 250.0 Hz\n",
      " meas_date: unspecified\n",
      " nchan: 61\n",
      " projs: []\n",
      " sfreq: 500.0 Hz\n",
      ">\n"
     ]
    }
   ],
   "source": [
    "print(raw_data.info)"
   ]
  },
  {
   "cell_type": "code",
   "execution_count": 5,
   "metadata": {},
   "outputs": [],
   "source": [
    "# rename_channel={'FP1':'Fp1', 'FPZ':\"Fpz\",'FP2':'Fp2','FZ':'Fz', 'FCZ':'FCz','CZ':'Cz', 'CPZ':'CPz', 'PZ':'Pz', 'POZ':'POz', 'OZ':'Oz'}\n",
    "# raw_data.rename_channels(rename_channel)"
   ]
  },
  {
   "cell_type": "code",
   "execution_count": 6,
   "metadata": {},
   "outputs": [
    {
     "name": "stdout",
     "output_type": "stream",
     "text": [
      "['Fp1', 'AF3', 'AF7', 'Fz', 'F1', 'F3', 'F5', 'F7', 'FC1', 'FC3', 'FC5', 'FT7', 'Cz', 'C1', 'C3', 'C5', 'T7', 'CP1', 'CP3', 'CP5', 'TP7', 'TP9', 'Pz', 'P1', 'P3', 'P5', 'P7', 'PO3', 'PO7', 'Oz', 'O1', 'Fpz', 'Fp2', 'AF4', 'AF8', 'F2', 'F4', 'F6', 'F8', 'FC2', 'FC4', 'FC6', 'FT8', 'C2', 'C4', 'C6', 'T8', 'CPz', 'CP2', 'CP4', 'CP6', 'TP8', 'TP10', 'P2', 'P4', 'P6', 'P8', 'POz', 'PO4', 'PO8', 'O2']\n",
      "['Fp1', 'Fz', 'F3', 'F7', 'Cz', 'C3', 'Pz', 'P3', 'Oz', 'O1', 'Fpz', 'Fp2', 'F4', 'F8', 'C4', 'P4', 'O2']\n"
     ]
    }
   ],
   "source": [
    "print(raw_data.ch_names)\n",
    "use_channel=['Fp1', 'Fpz', 'Fp2','F7','F3', 'Fz', 'F4','F8',  'C3','Cz','C4','P3','Pz','P4','O1', 'Oz', 'O2' ]\n",
    "use_data=raw_data.pick_channels(use_channel)\n",
    "# use_data.plot()\n",
    "print(use_data.ch_names)"
   ]
  },
  {
   "cell_type": "code",
   "execution_count": 7,
   "metadata": {},
   "outputs": [
    {
     "name": "stdout",
     "output_type": "stream",
     "text": [
      "['Fp1', 'Fz', 'F3', 'F7', 'Cz', 'C3', 'Pz', 'P3', 'Oz', 'O1', 'Fpz', 'Fp2', 'F4', 'F8', 'C4', 'P4', 'O2']\n"
     ]
    }
   ],
   "source": [
    "print(use_data.ch_names)"
   ]
  },
  {
   "cell_type": "code",
   "execution_count": 8,
   "metadata": {},
   "outputs": [
    {
     "data": {
      "text/html": [
       "<table class=\"table table-hover table-striped table-sm table-responsive small\">\n",
       "    <tr>\n",
       "        <th>Measurement date</th>\n",
       "        \n",
       "        <td>Unknown</td>\n",
       "        \n",
       "    </tr>\n",
       "    <tr>\n",
       "        <th>Experimenter</th>\n",
       "        \n",
       "        <td>Unknown</td>\n",
       "        \n",
       "    </tr>\n",
       "        <th>Participant</th>\n",
       "        \n",
       "        <td>Unknown</td>\n",
       "        \n",
       "    </tr>\n",
       "    <tr>\n",
       "        <th>Digitized points</th>\n",
       "        \n",
       "        <td>20 points</td>\n",
       "        \n",
       "    </tr>\n",
       "    <tr>\n",
       "        <th>Good channels</th>\n",
       "        <td>17 EEG</td>\n",
       "    </tr>\n",
       "    <tr>\n",
       "        <th>Bad channels</th>\n",
       "        <td>None</td>\n",
       "    </tr>\n",
       "    <tr>\n",
       "        <th>EOG channels</th>\n",
       "        <td>Not available</td>\n",
       "    </tr>\n",
       "    <tr>\n",
       "        <th>ECG channels</th>\n",
       "        <td>Not available</td>\n",
       "    \n",
       "    <tr>\n",
       "        <th>Sampling frequency</th>\n",
       "        <td>500.00 Hz</td>\n",
       "    </tr>\n",
       "    \n",
       "    \n",
       "    <tr>\n",
       "        <th>Highpass</th>\n",
       "        <td>0.00 Hz</td>\n",
       "    </tr>\n",
       "    \n",
       "    \n",
       "    <tr>\n",
       "        <th>Lowpass</th>\n",
       "        <td>250.00 Hz</td>\n",
       "    </tr>\n",
       "    \n",
       "    \n",
       "    \n",
       "    <tr>\n",
       "        <th>Filenames</th>\n",
       "        <td>sub01_01_EC.set</td>\n",
       "    </tr>\n",
       "    \n",
       "    <tr>\n",
       "        <th>Duration</th>\n",
       "        <td>00:04:60 (HH:MM:SS)</td>\n",
       "    </tr>\n",
       "</table>"
      ],
      "text/plain": [
       "<RawEEGLAB | sub01_01_EC.set, 17 x 150000 (300.0 s), ~19.5 MB, data loaded>"
      ]
     },
     "execution_count": 8,
     "metadata": {},
     "output_type": "execute_result"
    }
   ],
   "source": [
    "use_data.set_montage(montage=\"standard_1020\")"
   ]
  },
  {
   "cell_type": "code",
   "execution_count": 9,
   "metadata": {},
   "outputs": [
    {
     "data": {
      "text/html": [
       "<table class=\"table table-hover table-striped table-sm table-responsive small\">\n",
       "    <tr>\n",
       "        <th>Measurement date</th>\n",
       "        \n",
       "        <td>Unknown</td>\n",
       "        \n",
       "    </tr>\n",
       "    <tr>\n",
       "        <th>Experimenter</th>\n",
       "        \n",
       "        <td>Unknown</td>\n",
       "        \n",
       "    </tr>\n",
       "        <th>Participant</th>\n",
       "        \n",
       "        <td>Unknown</td>\n",
       "        \n",
       "    </tr>\n",
       "    <tr>\n",
       "        <th>Digitized points</th>\n",
       "        \n",
       "        <td>20 points</td>\n",
       "        \n",
       "    </tr>\n",
       "    <tr>\n",
       "        <th>Good channels</th>\n",
       "        <td>17 EEG</td>\n",
       "    </tr>\n",
       "    <tr>\n",
       "        <th>Bad channels</th>\n",
       "        <td>None</td>\n",
       "    </tr>\n",
       "    <tr>\n",
       "        <th>EOG channels</th>\n",
       "        <td>Not available</td>\n",
       "    </tr>\n",
       "    <tr>\n",
       "        <th>ECG channels</th>\n",
       "        <td>Not available</td>\n",
       "    \n",
       "    <tr>\n",
       "        <th>Sampling frequency</th>\n",
       "        <td>500.00 Hz</td>\n",
       "    </tr>\n",
       "    \n",
       "    \n",
       "    <tr>\n",
       "        <th>Highpass</th>\n",
       "        <td>0.00 Hz</td>\n",
       "    </tr>\n",
       "    \n",
       "    \n",
       "    <tr>\n",
       "        <th>Lowpass</th>\n",
       "        <td>250.00 Hz</td>\n",
       "    </tr>\n",
       "    \n",
       "    \n",
       "    \n",
       "    <tr>\n",
       "        <th>Filenames</th>\n",
       "        <td>sub01_01_EC.set</td>\n",
       "    </tr>\n",
       "    \n",
       "    <tr>\n",
       "        <th>Duration</th>\n",
       "        <td>00:04:60 (HH:MM:SS)</td>\n",
       "    </tr>\n",
       "</table>"
      ],
      "text/plain": [
       "<RawEEGLAB | sub01_01_EC.set, 17 x 150000 (300.0 s), ~19.5 MB, data loaded>"
      ]
     },
     "execution_count": 9,
     "metadata": {},
     "output_type": "execute_result"
    }
   ],
   "source": [
    "use_copy=raw_data.copy()\n",
    "use_copy.load_data()"
   ]
  },
  {
   "cell_type": "code",
   "execution_count": 10,
   "metadata": {},
   "outputs": [
    {
     "name": "stdout",
     "output_type": "stream",
     "text": [
      "Filtering raw data in 1 contiguous segment\n",
      "Setting up band-pass filter from 1 - 30 Hz\n",
      "\n",
      "FIR filter parameters\n",
      "---------------------\n",
      "Designing a one-pass, zero-phase, non-causal bandpass filter:\n",
      "- Windowed time-domain design (firwin) method\n",
      "- Hamming window with 0.0194 passband ripple and 53 dB stopband attenuation\n",
      "- Lower passband edge: 1.00\n",
      "- Lower transition bandwidth: 1.00 Hz (-6 dB cutoff frequency: 0.50 Hz)\n",
      "- Upper passband edge: 30.00 Hz\n",
      "- Upper transition bandwidth: 7.50 Hz (-6 dB cutoff frequency: 33.75 Hz)\n",
      "- Filter length: 1651 samples (3.302 sec)\n",
      "\n"
     ]
    },
    {
     "name": "stderr",
     "output_type": "stream",
     "text": [
      "[Parallel(n_jobs=1)]: Using backend SequentialBackend with 1 concurrent workers.\n",
      "[Parallel(n_jobs=1)]: Done   1 out of   1 | elapsed:    0.0s remaining:    0.0s\n",
      "[Parallel(n_jobs=1)]: Done   2 out of   2 | elapsed:    0.0s remaining:    0.0s\n",
      "[Parallel(n_jobs=1)]: Done   3 out of   3 | elapsed:    0.0s remaining:    0.0s\n",
      "[Parallel(n_jobs=1)]: Done   4 out of   4 | elapsed:    0.0s remaining:    0.0s\n",
      "[Parallel(n_jobs=1)]: Done  17 out of  17 | elapsed:    0.0s finished\n"
     ]
    },
    {
     "data": {
      "text/html": [
       "<table class=\"table table-hover table-striped table-sm table-responsive small\">\n",
       "    <tr>\n",
       "        <th>Measurement date</th>\n",
       "        \n",
       "        <td>Unknown</td>\n",
       "        \n",
       "    </tr>\n",
       "    <tr>\n",
       "        <th>Experimenter</th>\n",
       "        \n",
       "        <td>Unknown</td>\n",
       "        \n",
       "    </tr>\n",
       "        <th>Participant</th>\n",
       "        \n",
       "        <td>Unknown</td>\n",
       "        \n",
       "    </tr>\n",
       "    <tr>\n",
       "        <th>Digitized points</th>\n",
       "        \n",
       "        <td>20 points</td>\n",
       "        \n",
       "    </tr>\n",
       "    <tr>\n",
       "        <th>Good channels</th>\n",
       "        <td>17 EEG</td>\n",
       "    </tr>\n",
       "    <tr>\n",
       "        <th>Bad channels</th>\n",
       "        <td>None</td>\n",
       "    </tr>\n",
       "    <tr>\n",
       "        <th>EOG channels</th>\n",
       "        <td>Not available</td>\n",
       "    </tr>\n",
       "    <tr>\n",
       "        <th>ECG channels</th>\n",
       "        <td>Not available</td>\n",
       "    \n",
       "    <tr>\n",
       "        <th>Sampling frequency</th>\n",
       "        <td>500.00 Hz</td>\n",
       "    </tr>\n",
       "    \n",
       "    \n",
       "    <tr>\n",
       "        <th>Highpass</th>\n",
       "        <td>1.00 Hz</td>\n",
       "    </tr>\n",
       "    \n",
       "    \n",
       "    <tr>\n",
       "        <th>Lowpass</th>\n",
       "        <td>30.00 Hz</td>\n",
       "    </tr>\n",
       "    \n",
       "    \n",
       "    \n",
       "    <tr>\n",
       "        <th>Filenames</th>\n",
       "        <td>sub01_01_EC.set</td>\n",
       "    </tr>\n",
       "    \n",
       "    <tr>\n",
       "        <th>Duration</th>\n",
       "        <td>00:04:60 (HH:MM:SS)</td>\n",
       "    </tr>\n",
       "</table>"
      ],
      "text/plain": [
       "<RawEEGLAB | sub01_01_EC.set, 17 x 150000 (300.0 s), ~19.5 MB, data loaded>"
      ]
     },
     "execution_count": 10,
     "metadata": {},
     "output_type": "execute_result"
    }
   ],
   "source": [
    "use_copy.filter(l_freq=1,h_freq=30)"
   ]
  },
  {
   "cell_type": "code",
   "execution_count": 11,
   "metadata": {},
   "outputs": [
    {
     "name": "stdout",
     "output_type": "stream",
     "text": [
      "EEG channel type selected for re-referencing\n",
      "Applying average reference.\n",
      "Applying a custom ('EEG',) reference.\n"
     ]
    },
    {
     "data": {
      "text/html": [
       "<table class=\"table table-hover table-striped table-sm table-responsive small\">\n",
       "    <tr>\n",
       "        <th>Measurement date</th>\n",
       "        \n",
       "        <td>Unknown</td>\n",
       "        \n",
       "    </tr>\n",
       "    <tr>\n",
       "        <th>Experimenter</th>\n",
       "        \n",
       "        <td>Unknown</td>\n",
       "        \n",
       "    </tr>\n",
       "        <th>Participant</th>\n",
       "        \n",
       "        <td>Unknown</td>\n",
       "        \n",
       "    </tr>\n",
       "    <tr>\n",
       "        <th>Digitized points</th>\n",
       "        \n",
       "        <td>20 points</td>\n",
       "        \n",
       "    </tr>\n",
       "    <tr>\n",
       "        <th>Good channels</th>\n",
       "        <td>17 EEG</td>\n",
       "    </tr>\n",
       "    <tr>\n",
       "        <th>Bad channels</th>\n",
       "        <td>None</td>\n",
       "    </tr>\n",
       "    <tr>\n",
       "        <th>EOG channels</th>\n",
       "        <td>Not available</td>\n",
       "    </tr>\n",
       "    <tr>\n",
       "        <th>ECG channels</th>\n",
       "        <td>Not available</td>\n",
       "    \n",
       "    <tr>\n",
       "        <th>Sampling frequency</th>\n",
       "        <td>500.00 Hz</td>\n",
       "    </tr>\n",
       "    \n",
       "    \n",
       "    <tr>\n",
       "        <th>Highpass</th>\n",
       "        <td>1.00 Hz</td>\n",
       "    </tr>\n",
       "    \n",
       "    \n",
       "    <tr>\n",
       "        <th>Lowpass</th>\n",
       "        <td>30.00 Hz</td>\n",
       "    </tr>\n",
       "    \n",
       "    \n",
       "    \n",
       "    <tr>\n",
       "        <th>Filenames</th>\n",
       "        <td>sub01_01_EC.set</td>\n",
       "    </tr>\n",
       "    \n",
       "    <tr>\n",
       "        <th>Duration</th>\n",
       "        <td>00:04:60 (HH:MM:SS)</td>\n",
       "    </tr>\n",
       "</table>"
      ],
      "text/plain": [
       "<RawEEGLAB | sub01_01_EC.set, 17 x 150000 (300.0 s), ~19.5 MB, data loaded>"
      ]
     },
     "execution_count": 11,
     "metadata": {},
     "output_type": "execute_result"
    }
   ],
   "source": [
    "use_copy.set_eeg_reference(ref_channels='average')"
   ]
  },
  {
   "cell_type": "code",
   "execution_count": 12,
   "metadata": {},
   "outputs": [],
   "source": [
    "eeg_down=use_copy.copy().resample(sfreq=200)"
   ]
  },
  {
   "cell_type": "code",
   "execution_count": 13,
   "metadata": {},
   "outputs": [],
   "source": [
    "# eeg_down.plot()"
   ]
  },
  {
   "cell_type": "code",
   "execution_count": 14,
   "metadata": {},
   "outputs": [
    {
     "name": "stdout",
     "output_type": "stream",
     "text": [
      "['Fp1', 'Fz', 'F3', 'F7', 'Cz', 'C3', 'Pz', 'P3', 'Oz', 'O1', 'Fpz', 'Fp2', 'F4', 'F8', 'C4', 'P4', 'O2']\n"
     ]
    }
   ],
   "source": [
    "print(eeg_down.ch_names)"
   ]
  },
  {
   "cell_type": "code",
   "execution_count": 15,
   "metadata": {},
   "outputs": [],
   "source": [
    "data=eeg_down.get_data()"
   ]
  },
  {
   "cell_type": "code",
   "execution_count": 16,
   "metadata": {},
   "outputs": [
    {
     "name": "stdout",
     "output_type": "stream",
     "text": [
      "(17, 60000)\n",
      "<class 'numpy.ndarray'>\n"
     ]
    }
   ],
   "source": [
    "print(data.shape)\n",
    "print(type(data))"
   ]
  },
  {
   "cell_type": "code",
   "execution_count": 17,
   "metadata": {},
   "outputs": [
    {
     "name": "stdout",
     "output_type": "stream",
     "text": [
      "            0             1             2             3             4      \\\n",
      "Fp1 -4.832475e-07 -4.422859e-06 -7.220658e-06 -8.704634e-06 -9.540349e-06   \n",
      "Fz   5.230346e-08  6.190728e-07  1.565294e-06  2.701816e-06  3.431022e-06   \n",
      "F3  -1.422401e-07 -1.101220e-06 -9.242219e-07  5.160208e-07  2.441740e-06   \n",
      "F7  -2.118782e-07 -1.679752e-06 -1.595956e-06  2.760815e-07  2.933164e-06   \n",
      "Cz   5.863662e-08  7.532298e-07  2.139659e-06  4.145473e-06  6.063943e-06   \n",
      "C3   1.573878e-07  1.674779e-06  3.735101e-06  6.293169e-06  8.806206e-06   \n",
      "Pz   1.593597e-07  1.465150e-06  2.402569e-06  2.844309e-06  2.898584e-06   \n",
      "P3   2.031213e-07  1.882646e-06  3.225870e-06  4.365659e-06  5.793638e-06   \n",
      "Oz   1.942093e-07  1.342921e-06  3.745707e-07 -2.642422e-06 -5.735335e-06   \n",
      "O1   1.629209e-06  1.429096e-05  2.063693e-05  1.990935e-05  1.629482e-05   \n",
      "Fpz -2.693302e-07 -2.425637e-06 -3.817946e-06 -4.468057e-06 -5.075185e-06   \n",
      "Fp2 -2.413506e-07 -2.262984e-06 -3.951049e-06 -5.328464e-06 -6.695929e-06   \n",
      "F4  -9.281060e-08 -7.867313e-07 -1.035489e-06 -8.926480e-07 -8.331320e-07   \n",
      "F8  -3.051803e-07 -2.563916e-06 -3.205497e-06 -2.130244e-06 -6.057519e-07   \n",
      "C4  -1.193856e-07 -7.677372e-07  1.288304e-07  2.574920e-06  5.179957e-06   \n",
      "P4  -2.912612e-08 -3.201303e-07 -7.778677e-07 -1.503516e-06 -2.534629e-06   \n",
      "O2  -5.596782e-07 -5.697789e-06 -1.168014e-05 -1.795682e-05 -2.282277e-05   \n",
      "\n",
      "            5         6             7             8         9      ...  \\\n",
      "Fp1 -1.055974e-05 -0.000012 -1.382512e-05 -1.540602e-05 -0.000017  ...   \n",
      "Fz   3.330744e-06  0.000003  2.112874e-06  2.405031e-06  0.000003  ...   \n",
      "F3   3.862365e-06  0.000004  4.504989e-06  4.968457e-06  0.000006  ...   \n",
      "F7   4.961202e-06  0.000006  5.294036e-06  5.025773e-06  0.000006  ...   \n",
      "Cz   7.175915e-06  0.000007  7.136308e-06  7.132981e-06  0.000007  ...   \n",
      "C3   1.069994e-05  0.000012  1.260236e-05  1.343172e-05  0.000014  ...   \n",
      "Pz   2.788891e-06  0.000003  2.547422e-06  2.360571e-06  0.000002  ...   \n",
      "P3   7.897073e-06  0.000010  1.278743e-05  1.392744e-05  0.000014  ...   \n",
      "Oz  -6.643246e-06 -0.000005 -5.990373e-07  3.400426e-06  0.000006  ...   \n",
      "O1   1.515306e-05  0.000019  2.478290e-05  2.936440e-05  0.000030  ...   \n",
      "Fpz -6.404030e-06 -0.000009 -1.123837e-05 -1.342833e-05 -0.000015  ...   \n",
      "Fp2 -8.350293e-06 -0.000010 -1.260361e-05 -1.500212e-05 -0.000018  ...   \n",
      "F4  -1.339446e-06 -0.000002 -3.727421e-06 -4.507035e-06 -0.000004  ...   \n",
      "F8  -2.151991e-07 -0.000002 -4.149384e-06 -6.510589e-06 -0.000008  ...   \n",
      "C4   6.255207e-06  0.000005  2.525497e-06  1.599467e-08 -0.000001  ...   \n",
      "P4  -3.860179e-06 -0.000005 -7.103826e-06 -8.618920e-06 -0.000010  ...   \n",
      "O2  -2.475227e-05 -0.000024 -2.104705e-05 -1.855979e-05 -0.000017  ...   \n",
      "\n",
      "            59990     59991         59992         59993         59994  \\\n",
      "Fp1 -4.341432e-06 -0.000005 -5.605977e-06 -5.135841e-06 -4.015889e-06   \n",
      "Fz  -7.441231e-06 -0.000007 -6.639974e-06 -5.029153e-06 -3.004386e-06   \n",
      "F3  -6.896091e-06 -0.000007 -6.414571e-06 -6.122651e-06 -5.416874e-06   \n",
      "F7  -7.602190e-06 -0.000009 -9.538270e-06 -9.098125e-06 -7.975907e-06   \n",
      "Cz  -1.173512e-06 -0.000001  1.990301e-07  2.274942e-06  4.137195e-06   \n",
      "C3  -1.770622e-06 -0.000001 -4.292048e-07  3.166844e-07  7.128328e-07   \n",
      "Pz   9.507221e-06  0.000009  8.462848e-06  7.715748e-06  6.703290e-06   \n",
      "P3   8.774144e-06  0.000008  6.493451e-06  4.190099e-06  1.708656e-06   \n",
      "Oz   1.068863e-05  0.000013  1.353372e-05  1.003637e-05  4.663691e-06   \n",
      "O1   1.332500e-05  0.000016  1.347634e-05  5.809357e-06 -3.120746e-06   \n",
      "Fpz -7.123451e-06 -0.000007 -6.664515e-06 -5.213842e-06 -3.424312e-06   \n",
      "Fp2 -5.925424e-06 -0.000007 -6.443613e-06 -5.342641e-06 -3.740133e-06   \n",
      "F4  -3.634538e-06 -0.000004 -3.828923e-06 -2.024240e-06  4.876606e-07   \n",
      "F8  -4.540235e-06 -0.000006 -5.514518e-06 -3.891872e-06 -1.553773e-06   \n",
      "C4  -5.917956e-07 -0.000001  1.355790e-07  2.896599e-06  6.006747e-06   \n",
      "P4   7.859179e-06  0.000007  6.889299e-06  7.186468e-06  7.742623e-06   \n",
      "O2   8.863496e-07  0.000001  1.889295e-06  1.432096e-06  8.932368e-08   \n",
      "\n",
      "            59995         59996         59997         59998         59999  \n",
      "Fp1 -2.771671e-06 -1.831024e-06 -1.266615e-06 -8.611672e-07 -3.949694e-07  \n",
      "Fz  -1.254159e-06 -2.449713e-07  4.436451e-08 -6.048789e-09 -4.012109e-08  \n",
      "F3  -4.232833e-06 -2.803818e-06 -1.507057e-06 -6.175743e-07 -1.667473e-07  \n",
      "F7  -6.952664e-06 -6.388866e-06 -5.879867e-06 -4.623691e-06 -2.214326e-06  \n",
      "Cz   4.776027e-06  3.921995e-06  2.228042e-06  7.431206e-07  8.053053e-08  \n",
      "C3   5.924842e-07  6.033428e-08 -5.215280e-07 -7.433201e-07 -4.374796e-07  \n",
      "Pz   5.201450e-06  3.269751e-06  1.385627e-06  1.612007e-07 -1.499711e-07  \n",
      "P3  -3.433878e-07 -1.581609e-06 -1.934681e-06 -1.563847e-06 -7.284951e-07  \n",
      "Oz   5.548426e-07 -4.050174e-07  9.988973e-07  2.245008e-06  1.528164e-06  \n",
      "O1  -8.418291e-06 -7.915930e-06 -3.630030e-06  2.472267e-07  1.015915e-06  \n",
      "Fpz -2.000098e-06 -1.315002e-06 -1.172182e-06 -1.038740e-06 -5.446815e-07  \n",
      "Fp2 -2.426596e-06 -1.830863e-06 -1.724738e-06 -1.504206e-06 -7.724181e-07  \n",
      "F4   2.602990e-06  3.519756e-06  3.179677e-06  2.106754e-06  8.620119e-07  \n",
      "F8   2.537069e-07  8.084650e-07  3.700806e-07 -1.970759e-07 -2.510317e-07  \n",
      "C4   7.742905e-06  7.221570e-06  5.006948e-06  2.520364e-06  7.941494e-07  \n",
      "P4   7.945439e-06  7.324228e-06  5.839488e-06  3.806951e-06  1.591901e-06  \n",
      "O2  -1.270144e-06 -1.808996e-06 -1.416425e-06 -6.749551e-07 -1.724320e-07  \n",
      "\n",
      "[17 rows x 60000 columns]\n"
     ]
    }
   ],
   "source": [
    "data_df=pd.DataFrame(data)\n",
    "pd_ind=eeg_down.ch_names\n",
    "data_df.index=pd_ind\n",
    "print(data_df)"
   ]
  },
  {
   "cell_type": "code",
   "execution_count": 18,
   "metadata": {},
   "outputs": [
    {
     "name": "stdout",
     "output_type": "stream",
     "text": [
      "            0             1             2             3             4      \\\n",
      "Fp1 -4.832475e-07 -4.422859e-06 -7.220658e-06 -8.704634e-06 -9.540349e-06   \n",
      "Fpz -2.693302e-07 -2.425637e-06 -3.817946e-06 -4.468057e-06 -5.075185e-06   \n",
      "Fp2 -2.413506e-07 -2.262984e-06 -3.951049e-06 -5.328464e-06 -6.695929e-06   \n",
      "F7  -2.118782e-07 -1.679752e-06 -1.595956e-06  2.760815e-07  2.933164e-06   \n",
      "F3  -1.422401e-07 -1.101220e-06 -9.242219e-07  5.160208e-07  2.441740e-06   \n",
      "Fz   5.230346e-08  6.190728e-07  1.565294e-06  2.701816e-06  3.431022e-06   \n",
      "F4  -9.281060e-08 -7.867313e-07 -1.035489e-06 -8.926480e-07 -8.331320e-07   \n",
      "F8  -3.051803e-07 -2.563916e-06 -3.205497e-06 -2.130244e-06 -6.057519e-07   \n",
      "C3   1.573878e-07  1.674779e-06  3.735101e-06  6.293169e-06  8.806206e-06   \n",
      "Cz   5.863662e-08  7.532298e-07  2.139659e-06  4.145473e-06  6.063943e-06   \n",
      "C4  -1.193856e-07 -7.677372e-07  1.288304e-07  2.574920e-06  5.179957e-06   \n",
      "P3   2.031213e-07  1.882646e-06  3.225870e-06  4.365659e-06  5.793638e-06   \n",
      "Pz   1.593597e-07  1.465150e-06  2.402569e-06  2.844309e-06  2.898584e-06   \n",
      "P4  -2.912612e-08 -3.201303e-07 -7.778677e-07 -1.503516e-06 -2.534629e-06   \n",
      "O1   1.629209e-06  1.429096e-05  2.063693e-05  1.990935e-05  1.629482e-05   \n",
      "Oz   1.942093e-07  1.342921e-06  3.745707e-07 -2.642422e-06 -5.735335e-06   \n",
      "O2  -5.596782e-07 -5.697789e-06 -1.168014e-05 -1.795682e-05 -2.282277e-05   \n",
      "\n",
      "            5         6             7             8         9      ...  \\\n",
      "Fp1 -1.055974e-05 -0.000012 -1.382512e-05 -1.540602e-05 -0.000017  ...   \n",
      "Fpz -6.404030e-06 -0.000009 -1.123837e-05 -1.342833e-05 -0.000015  ...   \n",
      "Fp2 -8.350293e-06 -0.000010 -1.260361e-05 -1.500212e-05 -0.000018  ...   \n",
      "F7   4.961202e-06  0.000006  5.294036e-06  5.025773e-06  0.000006  ...   \n",
      "F3   3.862365e-06  0.000004  4.504989e-06  4.968457e-06  0.000006  ...   \n",
      "Fz   3.330744e-06  0.000003  2.112874e-06  2.405031e-06  0.000003  ...   \n",
      "F4  -1.339446e-06 -0.000002 -3.727421e-06 -4.507035e-06 -0.000004  ...   \n",
      "F8  -2.151991e-07 -0.000002 -4.149384e-06 -6.510589e-06 -0.000008  ...   \n",
      "C3   1.069994e-05  0.000012  1.260236e-05  1.343172e-05  0.000014  ...   \n",
      "Cz   7.175915e-06  0.000007  7.136308e-06  7.132981e-06  0.000007  ...   \n",
      "C4   6.255207e-06  0.000005  2.525497e-06  1.599467e-08 -0.000001  ...   \n",
      "P3   7.897073e-06  0.000010  1.278743e-05  1.392744e-05  0.000014  ...   \n",
      "Pz   2.788891e-06  0.000003  2.547422e-06  2.360571e-06  0.000002  ...   \n",
      "P4  -3.860179e-06 -0.000005 -7.103826e-06 -8.618920e-06 -0.000010  ...   \n",
      "O1   1.515306e-05  0.000019  2.478290e-05  2.936440e-05  0.000030  ...   \n",
      "Oz  -6.643246e-06 -0.000005 -5.990373e-07  3.400426e-06  0.000006  ...   \n",
      "O2  -2.475227e-05 -0.000024 -2.104705e-05 -1.855979e-05 -0.000017  ...   \n",
      "\n",
      "            59990     59991         59992         59993         59994  \\\n",
      "Fp1 -4.341432e-06 -0.000005 -5.605977e-06 -5.135841e-06 -4.015889e-06   \n",
      "Fpz -7.123451e-06 -0.000007 -6.664515e-06 -5.213842e-06 -3.424312e-06   \n",
      "Fp2 -5.925424e-06 -0.000007 -6.443613e-06 -5.342641e-06 -3.740133e-06   \n",
      "F7  -7.602190e-06 -0.000009 -9.538270e-06 -9.098125e-06 -7.975907e-06   \n",
      "F3  -6.896091e-06 -0.000007 -6.414571e-06 -6.122651e-06 -5.416874e-06   \n",
      "Fz  -7.441231e-06 -0.000007 -6.639974e-06 -5.029153e-06 -3.004386e-06   \n",
      "F4  -3.634538e-06 -0.000004 -3.828923e-06 -2.024240e-06  4.876606e-07   \n",
      "F8  -4.540235e-06 -0.000006 -5.514518e-06 -3.891872e-06 -1.553773e-06   \n",
      "C3  -1.770622e-06 -0.000001 -4.292048e-07  3.166844e-07  7.128328e-07   \n",
      "Cz  -1.173512e-06 -0.000001  1.990301e-07  2.274942e-06  4.137195e-06   \n",
      "C4  -5.917956e-07 -0.000001  1.355790e-07  2.896599e-06  6.006747e-06   \n",
      "P3   8.774144e-06  0.000008  6.493451e-06  4.190099e-06  1.708656e-06   \n",
      "Pz   9.507221e-06  0.000009  8.462848e-06  7.715748e-06  6.703290e-06   \n",
      "P4   7.859179e-06  0.000007  6.889299e-06  7.186468e-06  7.742623e-06   \n",
      "O1   1.332500e-05  0.000016  1.347634e-05  5.809357e-06 -3.120746e-06   \n",
      "Oz   1.068863e-05  0.000013  1.353372e-05  1.003637e-05  4.663691e-06   \n",
      "O2   8.863496e-07  0.000001  1.889295e-06  1.432096e-06  8.932368e-08   \n",
      "\n",
      "            59995         59996         59997         59998         59999  \n",
      "Fp1 -2.771671e-06 -1.831024e-06 -1.266615e-06 -8.611672e-07 -3.949694e-07  \n",
      "Fpz -2.000098e-06 -1.315002e-06 -1.172182e-06 -1.038740e-06 -5.446815e-07  \n",
      "Fp2 -2.426596e-06 -1.830863e-06 -1.724738e-06 -1.504206e-06 -7.724181e-07  \n",
      "F7  -6.952664e-06 -6.388866e-06 -5.879867e-06 -4.623691e-06 -2.214326e-06  \n",
      "F3  -4.232833e-06 -2.803818e-06 -1.507057e-06 -6.175743e-07 -1.667473e-07  \n",
      "Fz  -1.254159e-06 -2.449713e-07  4.436451e-08 -6.048789e-09 -4.012109e-08  \n",
      "F4   2.602990e-06  3.519756e-06  3.179677e-06  2.106754e-06  8.620119e-07  \n",
      "F8   2.537069e-07  8.084650e-07  3.700806e-07 -1.970759e-07 -2.510317e-07  \n",
      "C3   5.924842e-07  6.033428e-08 -5.215280e-07 -7.433201e-07 -4.374796e-07  \n",
      "Cz   4.776027e-06  3.921995e-06  2.228042e-06  7.431206e-07  8.053053e-08  \n",
      "C4   7.742905e-06  7.221570e-06  5.006948e-06  2.520364e-06  7.941494e-07  \n",
      "P3  -3.433878e-07 -1.581609e-06 -1.934681e-06 -1.563847e-06 -7.284951e-07  \n",
      "Pz   5.201450e-06  3.269751e-06  1.385627e-06  1.612007e-07 -1.499711e-07  \n",
      "P4   7.945439e-06  7.324228e-06  5.839488e-06  3.806951e-06  1.591901e-06  \n",
      "O1  -8.418291e-06 -7.915930e-06 -3.630030e-06  2.472267e-07  1.015915e-06  \n",
      "Oz   5.548426e-07 -4.050174e-07  9.988973e-07  2.245008e-06  1.528164e-06  \n",
      "O2  -1.270144e-06 -1.808996e-06 -1.416425e-06 -6.749551e-07 -1.724320e-07  \n",
      "\n",
      "[17 rows x 60000 columns]\n"
     ]
    }
   ],
   "source": [
    "# 调整顺序\n",
    "# use_channel=['Fp1', 'Fpz', 'Fp2','F7','F3', 'Fz', 'F4','F8',  'C3','Cz','C4','P3','Pz','P4','O1', 'Oz', 'O2' ]\n",
    "data_df_reindex=data_df.reindex(['Fp1', 'Fpz', 'Fp2','F7','F3', 'Fz', 'F4','F8',  'C3','Cz','C4','P3','Pz','P4','O1', 'Oz', 'O2' ])\n",
    "print(data_df_reindex)"
   ]
  },
  {
   "cell_type": "code",
   "execution_count": 19,
   "metadata": {},
   "outputs": [],
   "source": [
    "data_array=np.array(data_df_reindex)\n",
    "np.save(save_path,data_array)"
   ]
  },
  {
   "cell_type": "code",
   "execution_count": null,
   "metadata": {},
   "outputs": [],
   "source": [
    "eeg_down.plot()"
   ]
  },
  {
   "cell_type": "code",
   "execution_count": null,
   "metadata": {},
   "outputs": [],
   "source": []
  },
  {
   "cell_type": "code",
   "execution_count": null,
   "metadata": {},
   "outputs": [],
   "source": []
  },
  {
   "cell_type": "code",
   "execution_count": null,
   "metadata": {},
   "outputs": [],
   "source": []
  },
  {
   "cell_type": "code",
   "execution_count": null,
   "metadata": {},
   "outputs": [],
   "source": []
  }
 ],
 "metadata": {
  "kernelspec": {
   "display_name": "pytorch",
   "language": "python",
   "name": "python3"
  },
  "language_info": {
   "codemirror_mode": {
    "name": "ipython",
    "version": 3
   },
   "file_extension": ".py",
   "mimetype": "text/x-python",
   "name": "python",
   "nbconvert_exporter": "python",
   "pygments_lexer": "ipython3",
   "version": "3.9.13"
  },
  "orig_nbformat": 4,
  "vscode": {
   "interpreter": {
    "hash": "1a61ded091e49bac219c59beecc96d030eb2f39d76b7087ad025c76f0f785cb6"
   }
  }
 },
 "nbformat": 4,
 "nbformat_minor": 2
}
